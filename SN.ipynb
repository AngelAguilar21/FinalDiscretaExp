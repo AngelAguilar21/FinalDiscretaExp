{
 "cells": [
  {
   "cell_type": "code",
   "execution_count": 1,
   "metadata": {},
   "outputs": [
    {
     "name": "stdout",
     "output_type": "stream",
     "text": [
      "Friend Groups: [{1, 2, 3, 4, 5, 6, 7, 8, 9, 10}]\n"
     ]
    }
   ],
   "source": [
    "import mysql.connector\n",
    "import networkx as nx\n",
    "\n",
    "# Conexión a la base de datos y extracción de amistades\n",
    "def fetch_friendships():\n",
    "    db = mysql.connector.connect(\n",
    "        host=\"localhost\",\n",
    "        user=\"root\",\n",
    "        password=\"sistemas\",\n",
    "        database=\"SocialNetworkDB\"\n",
    "    )\n",
    "    cursor = db.cursor()\n",
    "    cursor.execute(\"SELECT UserID1, UserID2 FROM Friendships\")\n",
    "    friendships = cursor.fetchall()\n",
    "    db.close()\n",
    "    return friendships\n",
    "\n",
    "# Construcción del grafo de amistades\n",
    "def build_social_graph(friendships):\n",
    "    G = nx.Graph()\n",
    "    G.add_edges_from(friendships)\n",
    "    return G\n",
    "\n",
    "# Encontrar grupos de amigos usando componentes conectados\n",
    "def find_friend_groups(graph):\n",
    "    return list(nx.connected_components(graph))\n",
    "\n",
    "# Ejemplo de uso\n",
    "friendships = fetch_friendships()\n",
    "social_graph = build_social_graph(friendships)\n",
    "friend_groups = find_friend_groups(social_graph)\n",
    "print(\"Friend Groups:\", friend_groups)\n"
   ]
  },
  {
   "cell_type": "markdown",
   "metadata": {},
   "source": [
    "Pregunta 2"
   ]
  },
  {
   "cell_type": "code",
   "execution_count": 2,
   "metadata": {},
   "outputs": [
    {
     "name": "stdout",
     "output_type": "stream",
     "text": [
      "Friend Recommendations: {1: [4, 6, 7, 8], 2: [8, 5], 3: [9, 5, 7], 4: [1, 6, 7, 8], 5: [8, 9, 2, 3], 6: [1, 4, 8, 10], 7: [1, 3, 4, 9], 8: [1, 2, 4, 5, 6, 10], 9: [3, 5, 7], 10: [8, 6]}\n"
     ]
    }
   ],
   "source": [
    "def recommend_friends(graph):\n",
    "    recommendations = {}\n",
    "    for user in graph.nodes():\n",
    "        friends = set(graph.neighbors(user))\n",
    "        suggested_friends = set()\n",
    "        for friend in friends:\n",
    "            friends_of_friend = set(graph.neighbors(friend)) - friends - {user}\n",
    "            suggested_friends.update(friends_of_friend)\n",
    "        recommendations[user] = list(suggested_friends)\n",
    "    return recommendations\n",
    "\n",
    "# Ejemplo de uso\n",
    "recommendations = recommend_friends(social_graph)\n",
    "print(\"Friend Recommendations:\", recommendations)\n"
   ]
  },
  {
   "cell_type": "markdown",
   "metadata": {},
   "source": [
    "Pregunta 3"
   ]
  },
  {
   "cell_type": "code",
   "execution_count": 3,
   "metadata": {},
   "outputs": [
    {
     "name": "stdout",
     "output_type": "stream",
     "text": [
      "Most Popular Friend: 3 with 4 friends\n"
     ]
    }
   ],
   "source": [
    "def most_popular_friend(graph):\n",
    "    max_degree_node = max(graph.degree, key=lambda x: x[1])[0]\n",
    "    max_friends = graph.degree[max_degree_node]\n",
    "    return max_degree_node, max_friends\n",
    "\n",
    "# Ejemplo de uso\n",
    "popular_user, num_friends = most_popular_friend(social_graph)\n",
    "print(\"Most Popular Friend:\", popular_user, \"with\", num_friends, \"friends\")\n"
   ]
  },
  {
   "cell_type": "markdown",
   "metadata": {},
   "source": [
    "Pregunta 4"
   ]
  },
  {
   "cell_type": "code",
   "execution_count": 4,
   "metadata": {},
   "outputs": [
    {
     "name": "stdout",
     "output_type": "stream",
     "text": [
      "Shortest Path from 1 to 10 : [1, 3, 8, 9, 10]\n"
     ]
    }
   ],
   "source": [
    "def shortest_path(graph, person1, person2):\n",
    "    try:\n",
    "        path = nx.shortest_path(graph, source=person1, target=person2)\n",
    "    except nx.NetworkXNoPath:\n",
    "        path = None\n",
    "    return path\n",
    "\n",
    "# Ejemplo de uso\n",
    "person1, person2 = 1, 10  # IDs de ejemplo\n",
    "path = shortest_path(social_graph, person1, person2)\n",
    "print(\"Shortest Path from\", person1, \"to\", person2, \":\", path)\n"
   ]
  },
  {
   "cell_type": "markdown",
   "metadata": {},
   "source": [
    "Pregunta 5"
   ]
  },
  {
   "cell_type": "code",
   "execution_count": 5,
   "metadata": {},
   "outputs": [
    {
     "name": "stdout",
     "output_type": "stream",
     "text": [
      "Cycle found: [(1, 2), (2, 4), (4, 3), (3, 1)]\n"
     ]
    }
   ],
   "source": [
    "def has_cycle(graph):\n",
    "    try:\n",
    "        cycle = nx.find_cycle(graph)\n",
    "        return True, cycle\n",
    "    except nx.exception.NetworkXNoCycle:\n",
    "        return False, None\n",
    "\n",
    "# Ejemplo de uso\n",
    "cycle_exists, cycle = has_cycle(social_graph)\n",
    "if cycle_exists:\n",
    "    print(\"Cycle found:\", cycle)\n",
    "else:\n",
    "    print(\"No cycles found in the network\")\n"
   ]
  }
 ],
 "metadata": {
  "kernelspec": {
   "display_name": "Python 3",
   "language": "python",
   "name": "python3"
  },
  "language_info": {
   "codemirror_mode": {
    "name": "ipython",
    "version": 3
   },
   "file_extension": ".py",
   "mimetype": "text/x-python",
   "name": "python",
   "nbconvert_exporter": "python",
   "pygments_lexer": "ipython3",
   "version": "3.12.7"
  }
 },
 "nbformat": 4,
 "nbformat_minor": 2
}
